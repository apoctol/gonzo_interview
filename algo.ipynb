{
 "cells": [
  {
   "cell_type": "markdown",
   "metadata": {},
   "source": [
    "Задача 1 (Easy): Сумма двух чисел\n",
    "Описание:\n",
    "Напиши функцию sum_two_numbers(a, b), которая принимает два числа и возвращает их сумму"
   ]
  },
  {
   "cell_type": "code",
   "execution_count": null,
   "metadata": {},
   "outputs": [],
   "source": []
  },
  {
   "cell_type": "code",
   "execution_count": null,
   "metadata": {},
   "outputs": [],
   "source": [
    "print(sum_two_numbers(3, 5))  # Ожидаемый результат: 8"
   ]
  },
  {
   "cell_type": "markdown",
   "metadata": {},
   "source": [
    "Задача 2 (Easy): Проверка четности числа\n",
    "Описание:\n",
    "Напиши функцию is_even(n), которая принимает целое число и возвращает True, если число четное, и False, если нечетное."
   ]
  },
  {
   "cell_type": "code",
   "execution_count": null,
   "metadata": {},
   "outputs": [],
   "source": []
  },
  {
   "cell_type": "code",
   "execution_count": null,
   "metadata": {},
   "outputs": [],
   "source": [
    "print(is_even(4))  # Ожидаемый результат: True\n",
    "print(is_even(7))  # Ожидаемый результат: False\n"
   ]
  },
  {
   "cell_type": "markdown",
   "metadata": {},
   "source": [
    "Задача 3 (Easy): Поиск максимального числа в списке\n",
    "Описание:\n",
    "Напиши функцию find_max(lst), которая принимает список чисел и возвращает самое большое число в списке"
   ]
  },
  {
   "cell_type": "code",
   "execution_count": null,
   "metadata": {},
   "outputs": [],
   "source": []
  },
  {
   "cell_type": "code",
   "execution_count": null,
   "metadata": {},
   "outputs": [],
   "source": [
    "print(find_max([1, 2, 3, 4, 5]))  # Ожидаемый результат: 5"
   ]
  },
  {
   "cell_type": "code",
   "execution_count": null,
   "metadata": {},
   "outputs": [],
   "source": []
  }
 ],
 "metadata": {
  "kernelspec": {
   "display_name": ".venv",
   "language": "python",
   "name": "python3"
  },
  "language_info": {
   "name": "python",
   "version": "3.11.9"
  }
 },
 "nbformat": 4,
 "nbformat_minor": 2
}
